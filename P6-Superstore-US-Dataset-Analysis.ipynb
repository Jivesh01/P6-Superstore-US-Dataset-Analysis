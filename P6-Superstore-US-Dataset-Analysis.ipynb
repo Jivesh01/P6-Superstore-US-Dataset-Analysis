{
 "cells": [
  {
   "cell_type": "markdown",
   "id": "bc392bd9-39a5-406a-95b5-76388c0f4338",
   "metadata": {},
   "source": [
    "## Project : Exploratory Data Analysis"
   ]
  },
  {
   "cell_type": "code",
   "execution_count": 78,
   "id": "16dc4120-5441-4539-bcb2-c4bcc8cd773b",
   "metadata": {},
   "outputs": [],
   "source": [
    "# i performed exploratory data analysis (EDA) on 'P6-SuperStoreUS dataset\n",
    "# while performing data analysis various python libraries numpy for numerical calculation,pandas for data manipulation and matplotlib,seaborn used for data visualization\n",
    "# in this project i extracted , transformed and loaded (ETL) data on jupiter notebook and performed univariate,bi variate data analysis"
   ]
  },
  {
   "cell_type": "code",
   "execution_count": 79,
   "id": "f5d27d81-1f72-499b-bec4-54c4af74f03e",
   "metadata": {},
   "outputs": [],
   "source": [
    "import numpy as np\n",
    "import pandas as pd\n",
    "import matplotlib.pyplot as plt\n",
    "import seaborn as sns"
   ]
  },
  {
   "cell_type": "code",
   "execution_count": 80,
   "id": "9593a69f-a8ca-412f-8a50-86bd3a38f460",
   "metadata": {},
   "outputs": [
    {
     "data": {
      "text/html": [
       "<div>\n",
       "<style scoped>\n",
       "    .dataframe tbody tr th:only-of-type {\n",
       "        vertical-align: middle;\n",
       "    }\n",
       "\n",
       "    .dataframe tbody tr th {\n",
       "        vertical-align: top;\n",
       "    }\n",
       "\n",
       "    .dataframe thead th {\n",
       "        text-align: right;\n",
       "    }\n",
       "</style>\n",
       "<table border=\"1\" class=\"dataframe\">\n",
       "  <thead>\n",
       "    <tr style=\"text-align: right;\">\n",
       "      <th></th>\n",
       "      <th>Row ID</th>\n",
       "      <th>Order Priority</th>\n",
       "      <th>Discount</th>\n",
       "      <th>Unit Price</th>\n",
       "      <th>Shipping Cost</th>\n",
       "      <th>Customer ID</th>\n",
       "      <th>Customer Name</th>\n",
       "      <th>Ship Mode</th>\n",
       "      <th>Customer Segment</th>\n",
       "      <th>Product Category</th>\n",
       "      <th>...</th>\n",
       "      <th>Region</th>\n",
       "      <th>State or Province</th>\n",
       "      <th>City</th>\n",
       "      <th>Postal Code</th>\n",
       "      <th>Order Date</th>\n",
       "      <th>Ship Date</th>\n",
       "      <th>Profit</th>\n",
       "      <th>Quantity ordered new</th>\n",
       "      <th>Sales</th>\n",
       "      <th>Order ID</th>\n",
       "    </tr>\n",
       "  </thead>\n",
       "  <tbody>\n",
       "    <tr>\n",
       "      <th>0</th>\n",
       "      <td>20847</td>\n",
       "      <td>High</td>\n",
       "      <td>0.01</td>\n",
       "      <td>2.84</td>\n",
       "      <td>0.93</td>\n",
       "      <td>3</td>\n",
       "      <td>Bonnie Potter</td>\n",
       "      <td>Express Air</td>\n",
       "      <td>Corporate</td>\n",
       "      <td>Office Supplies</td>\n",
       "      <td>...</td>\n",
       "      <td>West</td>\n",
       "      <td>Washington</td>\n",
       "      <td>Anacortes</td>\n",
       "      <td>98221</td>\n",
       "      <td>2015-01-07</td>\n",
       "      <td>2015-01-08</td>\n",
       "      <td>4.5600</td>\n",
       "      <td>4</td>\n",
       "      <td>13.01</td>\n",
       "      <td>88522</td>\n",
       "    </tr>\n",
       "    <tr>\n",
       "      <th>1</th>\n",
       "      <td>20228</td>\n",
       "      <td>Not Specified</td>\n",
       "      <td>0.02</td>\n",
       "      <td>500.98</td>\n",
       "      <td>26.00</td>\n",
       "      <td>5</td>\n",
       "      <td>Ronnie Proctor</td>\n",
       "      <td>Delivery Truck</td>\n",
       "      <td>Home Office</td>\n",
       "      <td>Furniture</td>\n",
       "      <td>...</td>\n",
       "      <td>West</td>\n",
       "      <td>California</td>\n",
       "      <td>San Gabriel</td>\n",
       "      <td>91776</td>\n",
       "      <td>2015-06-13</td>\n",
       "      <td>2015-06-15</td>\n",
       "      <td>4390.3665</td>\n",
       "      <td>12</td>\n",
       "      <td>6362.85</td>\n",
       "      <td>90193</td>\n",
       "    </tr>\n",
       "    <tr>\n",
       "      <th>2</th>\n",
       "      <td>21776</td>\n",
       "      <td>Critical</td>\n",
       "      <td>0.06</td>\n",
       "      <td>9.48</td>\n",
       "      <td>7.29</td>\n",
       "      <td>11</td>\n",
       "      <td>Marcus Dunlap</td>\n",
       "      <td>Regular Air</td>\n",
       "      <td>Home Office</td>\n",
       "      <td>Furniture</td>\n",
       "      <td>...</td>\n",
       "      <td>East</td>\n",
       "      <td>New Jersey</td>\n",
       "      <td>Roselle</td>\n",
       "      <td>7203</td>\n",
       "      <td>2015-02-15</td>\n",
       "      <td>2015-02-17</td>\n",
       "      <td>-53.8096</td>\n",
       "      <td>22</td>\n",
       "      <td>211.15</td>\n",
       "      <td>90192</td>\n",
       "    </tr>\n",
       "    <tr>\n",
       "      <th>3</th>\n",
       "      <td>24844</td>\n",
       "      <td>Medium</td>\n",
       "      <td>0.09</td>\n",
       "      <td>78.69</td>\n",
       "      <td>19.99</td>\n",
       "      <td>14</td>\n",
       "      <td>Gwendolyn F Tyson</td>\n",
       "      <td>Regular Air</td>\n",
       "      <td>Small Business</td>\n",
       "      <td>Furniture</td>\n",
       "      <td>...</td>\n",
       "      <td>Central</td>\n",
       "      <td>Minnesota</td>\n",
       "      <td>Prior Lake</td>\n",
       "      <td>55372</td>\n",
       "      <td>2015-05-12</td>\n",
       "      <td>2015-05-14</td>\n",
       "      <td>803.4705</td>\n",
       "      <td>16</td>\n",
       "      <td>1164.45</td>\n",
       "      <td>86838</td>\n",
       "    </tr>\n",
       "    <tr>\n",
       "      <th>4</th>\n",
       "      <td>24846</td>\n",
       "      <td>Medium</td>\n",
       "      <td>0.08</td>\n",
       "      <td>3.28</td>\n",
       "      <td>2.31</td>\n",
       "      <td>14</td>\n",
       "      <td>Gwendolyn F Tyson</td>\n",
       "      <td>Regular Air</td>\n",
       "      <td>Small Business</td>\n",
       "      <td>Office Supplies</td>\n",
       "      <td>...</td>\n",
       "      <td>Central</td>\n",
       "      <td>Minnesota</td>\n",
       "      <td>Prior Lake</td>\n",
       "      <td>55372</td>\n",
       "      <td>2015-05-12</td>\n",
       "      <td>2015-05-13</td>\n",
       "      <td>-24.0300</td>\n",
       "      <td>7</td>\n",
       "      <td>22.23</td>\n",
       "      <td>86838</td>\n",
       "    </tr>\n",
       "    <tr>\n",
       "      <th>...</th>\n",
       "      <td>...</td>\n",
       "      <td>...</td>\n",
       "      <td>...</td>\n",
       "      <td>...</td>\n",
       "      <td>...</td>\n",
       "      <td>...</td>\n",
       "      <td>...</td>\n",
       "      <td>...</td>\n",
       "      <td>...</td>\n",
       "      <td>...</td>\n",
       "      <td>...</td>\n",
       "      <td>...</td>\n",
       "      <td>...</td>\n",
       "      <td>...</td>\n",
       "      <td>...</td>\n",
       "      <td>...</td>\n",
       "      <td>...</td>\n",
       "      <td>...</td>\n",
       "      <td>...</td>\n",
       "      <td>...</td>\n",
       "      <td>...</td>\n",
       "    </tr>\n",
       "    <tr>\n",
       "      <th>1947</th>\n",
       "      <td>19842</td>\n",
       "      <td>High</td>\n",
       "      <td>0.01</td>\n",
       "      <td>10.90</td>\n",
       "      <td>7.46</td>\n",
       "      <td>3397</td>\n",
       "      <td>Andrea Shaw</td>\n",
       "      <td>Regular Air</td>\n",
       "      <td>Small Business</td>\n",
       "      <td>Office Supplies</td>\n",
       "      <td>...</td>\n",
       "      <td>Central</td>\n",
       "      <td>Illinois</td>\n",
       "      <td>Danville</td>\n",
       "      <td>61832</td>\n",
       "      <td>2015-03-11</td>\n",
       "      <td>2015-03-12</td>\n",
       "      <td>-116.7600</td>\n",
       "      <td>18</td>\n",
       "      <td>207.31</td>\n",
       "      <td>87536</td>\n",
       "    </tr>\n",
       "    <tr>\n",
       "      <th>1948</th>\n",
       "      <td>19843</td>\n",
       "      <td>High</td>\n",
       "      <td>0.10</td>\n",
       "      <td>7.99</td>\n",
       "      <td>5.03</td>\n",
       "      <td>3397</td>\n",
       "      <td>Andrea Shaw</td>\n",
       "      <td>Regular Air</td>\n",
       "      <td>Small Business</td>\n",
       "      <td>Technology</td>\n",
       "      <td>...</td>\n",
       "      <td>Central</td>\n",
       "      <td>Illinois</td>\n",
       "      <td>Danville</td>\n",
       "      <td>61832</td>\n",
       "      <td>2015-03-11</td>\n",
       "      <td>2015-03-12</td>\n",
       "      <td>-160.9520</td>\n",
       "      <td>22</td>\n",
       "      <td>143.12</td>\n",
       "      <td>87536</td>\n",
       "    </tr>\n",
       "    <tr>\n",
       "      <th>1949</th>\n",
       "      <td>26208</td>\n",
       "      <td>Not Specified</td>\n",
       "      <td>0.08</td>\n",
       "      <td>11.97</td>\n",
       "      <td>5.81</td>\n",
       "      <td>3399</td>\n",
       "      <td>Marvin Reid</td>\n",
       "      <td>Regular Air</td>\n",
       "      <td>Small Business</td>\n",
       "      <td>Office Supplies</td>\n",
       "      <td>...</td>\n",
       "      <td>Central</td>\n",
       "      <td>Illinois</td>\n",
       "      <td>Des Plaines</td>\n",
       "      <td>60016</td>\n",
       "      <td>2015-03-29</td>\n",
       "      <td>2015-03-31</td>\n",
       "      <td>-41.8700</td>\n",
       "      <td>5</td>\n",
       "      <td>59.98</td>\n",
       "      <td>87534</td>\n",
       "    </tr>\n",
       "    <tr>\n",
       "      <th>1950</th>\n",
       "      <td>24911</td>\n",
       "      <td>Medium</td>\n",
       "      <td>0.10</td>\n",
       "      <td>9.38</td>\n",
       "      <td>4.93</td>\n",
       "      <td>3400</td>\n",
       "      <td>Florence Gold</td>\n",
       "      <td>Express Air</td>\n",
       "      <td>Small Business</td>\n",
       "      <td>Furniture</td>\n",
       "      <td>...</td>\n",
       "      <td>East</td>\n",
       "      <td>West Virginia</td>\n",
       "      <td>Fairmont</td>\n",
       "      <td>26554</td>\n",
       "      <td>2015-04-04</td>\n",
       "      <td>2015-04-04</td>\n",
       "      <td>-24.7104</td>\n",
       "      <td>15</td>\n",
       "      <td>135.78</td>\n",
       "      <td>87537</td>\n",
       "    </tr>\n",
       "    <tr>\n",
       "      <th>1951</th>\n",
       "      <td>25914</td>\n",
       "      <td>High</td>\n",
       "      <td>0.10</td>\n",
       "      <td>105.98</td>\n",
       "      <td>13.99</td>\n",
       "      <td>3403</td>\n",
       "      <td>Tammy Buckley</td>\n",
       "      <td>Express Air</td>\n",
       "      <td>Consumer</td>\n",
       "      <td>Furniture</td>\n",
       "      <td>...</td>\n",
       "      <td>West</td>\n",
       "      <td>Wyoming</td>\n",
       "      <td>Cheyenne</td>\n",
       "      <td>82001</td>\n",
       "      <td>2015-02-08</td>\n",
       "      <td>2015-02-11</td>\n",
       "      <td>349.4850</td>\n",
       "      <td>5</td>\n",
       "      <td>506.50</td>\n",
       "      <td>87530</td>\n",
       "    </tr>\n",
       "  </tbody>\n",
       "</table>\n",
       "<p>1952 rows × 25 columns</p>\n",
       "</div>"
      ],
      "text/plain": [
       "      Row ID Order Priority  Discount  Unit Price  Shipping Cost  Customer ID  \\\n",
       "0      20847           High      0.01        2.84           0.93            3   \n",
       "1      20228  Not Specified      0.02      500.98          26.00            5   \n",
       "2      21776       Critical      0.06        9.48           7.29           11   \n",
       "3      24844         Medium      0.09       78.69          19.99           14   \n",
       "4      24846         Medium      0.08        3.28           2.31           14   \n",
       "...      ...            ...       ...         ...            ...          ...   \n",
       "1947   19842           High      0.01       10.90           7.46         3397   \n",
       "1948   19843           High      0.10        7.99           5.03         3397   \n",
       "1949   26208  Not Specified      0.08       11.97           5.81         3399   \n",
       "1950   24911         Medium      0.10        9.38           4.93         3400   \n",
       "1951   25914           High      0.10      105.98          13.99         3403   \n",
       "\n",
       "          Customer Name       Ship Mode Customer Segment Product Category  \\\n",
       "0         Bonnie Potter     Express Air        Corporate  Office Supplies   \n",
       "1        Ronnie Proctor  Delivery Truck      Home Office        Furniture   \n",
       "2         Marcus Dunlap     Regular Air      Home Office        Furniture   \n",
       "3     Gwendolyn F Tyson     Regular Air   Small Business        Furniture   \n",
       "4     Gwendolyn F Tyson     Regular Air   Small Business  Office Supplies   \n",
       "...                 ...             ...              ...              ...   \n",
       "1947        Andrea Shaw     Regular Air   Small Business  Office Supplies   \n",
       "1948        Andrea Shaw     Regular Air   Small Business       Technology   \n",
       "1949        Marvin Reid     Regular Air   Small Business  Office Supplies   \n",
       "1950      Florence Gold     Express Air   Small Business        Furniture   \n",
       "1951      Tammy Buckley     Express Air         Consumer        Furniture   \n",
       "\n",
       "      ...   Region State or Province         City  Postal Code Order Date  \\\n",
       "0     ...     West        Washington    Anacortes        98221 2015-01-07   \n",
       "1     ...     West        California  San Gabriel        91776 2015-06-13   \n",
       "2     ...     East        New Jersey      Roselle         7203 2015-02-15   \n",
       "3     ...  Central         Minnesota   Prior Lake        55372 2015-05-12   \n",
       "4     ...  Central         Minnesota   Prior Lake        55372 2015-05-12   \n",
       "...   ...      ...               ...          ...          ...        ...   \n",
       "1947  ...  Central          Illinois     Danville        61832 2015-03-11   \n",
       "1948  ...  Central          Illinois     Danville        61832 2015-03-11   \n",
       "1949  ...  Central          Illinois  Des Plaines        60016 2015-03-29   \n",
       "1950  ...     East     West Virginia     Fairmont        26554 2015-04-04   \n",
       "1951  ...     West           Wyoming     Cheyenne        82001 2015-02-08   \n",
       "\n",
       "      Ship Date     Profit Quantity ordered new    Sales Order ID  \n",
       "0    2015-01-08     4.5600                    4    13.01    88522  \n",
       "1    2015-06-15  4390.3665                   12  6362.85    90193  \n",
       "2    2015-02-17   -53.8096                   22   211.15    90192  \n",
       "3    2015-05-14   803.4705                   16  1164.45    86838  \n",
       "4    2015-05-13   -24.0300                    7    22.23    86838  \n",
       "...         ...        ...                  ...      ...      ...  \n",
       "1947 2015-03-12  -116.7600                   18   207.31    87536  \n",
       "1948 2015-03-12  -160.9520                   22   143.12    87536  \n",
       "1949 2015-03-31   -41.8700                    5    59.98    87534  \n",
       "1950 2015-04-04   -24.7104                   15   135.78    87537  \n",
       "1951 2015-02-11   349.4850                    5   506.50    87530  \n",
       "\n",
       "[1952 rows x 25 columns]"
      ]
     },
     "execution_count": 80,
     "metadata": {},
     "output_type": "execute_result"
    }
   ],
   "source": [
    "df = pd.read_excel('P6-SuperStoreUS-2015.xlsx')\n",
    "df"
   ]
  },
  {
   "cell_type": "code",
   "execution_count": 81,
   "id": "878270ca-b54f-4d90-93ec-a4e0a56f21e8",
   "metadata": {},
   "outputs": [
    {
     "data": {
      "text/plain": [
       "(1952, 25)"
      ]
     },
     "execution_count": 81,
     "metadata": {},
     "output_type": "execute_result"
    }
   ],
   "source": [
    "df.shape"
   ]
  },
  {
   "cell_type": "code",
   "execution_count": 82,
   "id": "bcde9cc1-43b1-41a1-9cd6-bf19bbcf632a",
   "metadata": {},
   "outputs": [],
   "source": [
    "# Display first 5 rows.\n",
    "# Display last 5 Rows.\n",
    "# Display random 5 rows.\n",
    "# Display Column Names \n",
    "# Display Datatypes of all features."
   ]
  },
  {
   "cell_type": "code",
   "execution_count": 83,
   "id": "10b7bebc-b0b9-46d0-a673-dc93b1b9e4c9",
   "metadata": {},
   "outputs": [
    {
     "data": {
      "text/html": [
       "<div>\n",
       "<style scoped>\n",
       "    .dataframe tbody tr th:only-of-type {\n",
       "        vertical-align: middle;\n",
       "    }\n",
       "\n",
       "    .dataframe tbody tr th {\n",
       "        vertical-align: top;\n",
       "    }\n",
       "\n",
       "    .dataframe thead th {\n",
       "        text-align: right;\n",
       "    }\n",
       "</style>\n",
       "<table border=\"1\" class=\"dataframe\">\n",
       "  <thead>\n",
       "    <tr style=\"text-align: right;\">\n",
       "      <th></th>\n",
       "      <th>Row ID</th>\n",
       "      <th>Order Priority</th>\n",
       "      <th>Discount</th>\n",
       "      <th>Unit Price</th>\n",
       "      <th>Shipping Cost</th>\n",
       "      <th>Customer ID</th>\n",
       "      <th>Customer Name</th>\n",
       "      <th>Ship Mode</th>\n",
       "      <th>Customer Segment</th>\n",
       "      <th>Product Category</th>\n",
       "      <th>...</th>\n",
       "      <th>Region</th>\n",
       "      <th>State or Province</th>\n",
       "      <th>City</th>\n",
       "      <th>Postal Code</th>\n",
       "      <th>Order Date</th>\n",
       "      <th>Ship Date</th>\n",
       "      <th>Profit</th>\n",
       "      <th>Quantity ordered new</th>\n",
       "      <th>Sales</th>\n",
       "      <th>Order ID</th>\n",
       "    </tr>\n",
       "  </thead>\n",
       "  <tbody>\n",
       "    <tr>\n",
       "      <th>0</th>\n",
       "      <td>20847</td>\n",
       "      <td>High</td>\n",
       "      <td>0.01</td>\n",
       "      <td>2.84</td>\n",
       "      <td>0.93</td>\n",
       "      <td>3</td>\n",
       "      <td>Bonnie Potter</td>\n",
       "      <td>Express Air</td>\n",
       "      <td>Corporate</td>\n",
       "      <td>Office Supplies</td>\n",
       "      <td>...</td>\n",
       "      <td>West</td>\n",
       "      <td>Washington</td>\n",
       "      <td>Anacortes</td>\n",
       "      <td>98221</td>\n",
       "      <td>2015-01-07</td>\n",
       "      <td>2015-01-08</td>\n",
       "      <td>4.5600</td>\n",
       "      <td>4</td>\n",
       "      <td>13.01</td>\n",
       "      <td>88522</td>\n",
       "    </tr>\n",
       "    <tr>\n",
       "      <th>1</th>\n",
       "      <td>20228</td>\n",
       "      <td>Not Specified</td>\n",
       "      <td>0.02</td>\n",
       "      <td>500.98</td>\n",
       "      <td>26.00</td>\n",
       "      <td>5</td>\n",
       "      <td>Ronnie Proctor</td>\n",
       "      <td>Delivery Truck</td>\n",
       "      <td>Home Office</td>\n",
       "      <td>Furniture</td>\n",
       "      <td>...</td>\n",
       "      <td>West</td>\n",
       "      <td>California</td>\n",
       "      <td>San Gabriel</td>\n",
       "      <td>91776</td>\n",
       "      <td>2015-06-13</td>\n",
       "      <td>2015-06-15</td>\n",
       "      <td>4390.3665</td>\n",
       "      <td>12</td>\n",
       "      <td>6362.85</td>\n",
       "      <td>90193</td>\n",
       "    </tr>\n",
       "    <tr>\n",
       "      <th>2</th>\n",
       "      <td>21776</td>\n",
       "      <td>Critical</td>\n",
       "      <td>0.06</td>\n",
       "      <td>9.48</td>\n",
       "      <td>7.29</td>\n",
       "      <td>11</td>\n",
       "      <td>Marcus Dunlap</td>\n",
       "      <td>Regular Air</td>\n",
       "      <td>Home Office</td>\n",
       "      <td>Furniture</td>\n",
       "      <td>...</td>\n",
       "      <td>East</td>\n",
       "      <td>New Jersey</td>\n",
       "      <td>Roselle</td>\n",
       "      <td>7203</td>\n",
       "      <td>2015-02-15</td>\n",
       "      <td>2015-02-17</td>\n",
       "      <td>-53.8096</td>\n",
       "      <td>22</td>\n",
       "      <td>211.15</td>\n",
       "      <td>90192</td>\n",
       "    </tr>\n",
       "    <tr>\n",
       "      <th>3</th>\n",
       "      <td>24844</td>\n",
       "      <td>Medium</td>\n",
       "      <td>0.09</td>\n",
       "      <td>78.69</td>\n",
       "      <td>19.99</td>\n",
       "      <td>14</td>\n",
       "      <td>Gwendolyn F Tyson</td>\n",
       "      <td>Regular Air</td>\n",
       "      <td>Small Business</td>\n",
       "      <td>Furniture</td>\n",
       "      <td>...</td>\n",
       "      <td>Central</td>\n",
       "      <td>Minnesota</td>\n",
       "      <td>Prior Lake</td>\n",
       "      <td>55372</td>\n",
       "      <td>2015-05-12</td>\n",
       "      <td>2015-05-14</td>\n",
       "      <td>803.4705</td>\n",
       "      <td>16</td>\n",
       "      <td>1164.45</td>\n",
       "      <td>86838</td>\n",
       "    </tr>\n",
       "    <tr>\n",
       "      <th>4</th>\n",
       "      <td>24846</td>\n",
       "      <td>Medium</td>\n",
       "      <td>0.08</td>\n",
       "      <td>3.28</td>\n",
       "      <td>2.31</td>\n",
       "      <td>14</td>\n",
       "      <td>Gwendolyn F Tyson</td>\n",
       "      <td>Regular Air</td>\n",
       "      <td>Small Business</td>\n",
       "      <td>Office Supplies</td>\n",
       "      <td>...</td>\n",
       "      <td>Central</td>\n",
       "      <td>Minnesota</td>\n",
       "      <td>Prior Lake</td>\n",
       "      <td>55372</td>\n",
       "      <td>2015-05-12</td>\n",
       "      <td>2015-05-13</td>\n",
       "      <td>-24.0300</td>\n",
       "      <td>7</td>\n",
       "      <td>22.23</td>\n",
       "      <td>86838</td>\n",
       "    </tr>\n",
       "  </tbody>\n",
       "</table>\n",
       "<p>5 rows × 25 columns</p>\n",
       "</div>"
      ],
      "text/plain": [
       "   Row ID Order Priority  Discount  Unit Price  Shipping Cost  Customer ID  \\\n",
       "0   20847           High      0.01        2.84           0.93            3   \n",
       "1   20228  Not Specified      0.02      500.98          26.00            5   \n",
       "2   21776       Critical      0.06        9.48           7.29           11   \n",
       "3   24844         Medium      0.09       78.69          19.99           14   \n",
       "4   24846         Medium      0.08        3.28           2.31           14   \n",
       "\n",
       "       Customer Name       Ship Mode Customer Segment Product Category  ...  \\\n",
       "0      Bonnie Potter     Express Air        Corporate  Office Supplies  ...   \n",
       "1     Ronnie Proctor  Delivery Truck      Home Office        Furniture  ...   \n",
       "2      Marcus Dunlap     Regular Air      Home Office        Furniture  ...   \n",
       "3  Gwendolyn F Tyson     Regular Air   Small Business        Furniture  ...   \n",
       "4  Gwendolyn F Tyson     Regular Air   Small Business  Office Supplies  ...   \n",
       "\n",
       "    Region State or Province         City  Postal Code Order Date  Ship Date  \\\n",
       "0     West        Washington    Anacortes        98221 2015-01-07 2015-01-08   \n",
       "1     West        California  San Gabriel        91776 2015-06-13 2015-06-15   \n",
       "2     East        New Jersey      Roselle         7203 2015-02-15 2015-02-17   \n",
       "3  Central         Minnesota   Prior Lake        55372 2015-05-12 2015-05-14   \n",
       "4  Central         Minnesota   Prior Lake        55372 2015-05-12 2015-05-13   \n",
       "\n",
       "      Profit Quantity ordered new    Sales Order ID  \n",
       "0     4.5600                    4    13.01    88522  \n",
       "1  4390.3665                   12  6362.85    90193  \n",
       "2   -53.8096                   22   211.15    90192  \n",
       "3   803.4705                   16  1164.45    86838  \n",
       "4   -24.0300                    7    22.23    86838  \n",
       "\n",
       "[5 rows x 25 columns]"
      ]
     },
     "execution_count": 83,
     "metadata": {},
     "output_type": "execute_result"
    }
   ],
   "source": [
    "# Display first 5 rows.\n",
    "df.head(5)"
   ]
  },
  {
   "cell_type": "code",
   "execution_count": 84,
   "id": "35a15987-053a-4d09-adb6-c3852d86ce6f",
   "metadata": {},
   "outputs": [
    {
     "data": {
      "text/html": [
       "<div>\n",
       "<style scoped>\n",
       "    .dataframe tbody tr th:only-of-type {\n",
       "        vertical-align: middle;\n",
       "    }\n",
       "\n",
       "    .dataframe tbody tr th {\n",
       "        vertical-align: top;\n",
       "    }\n",
       "\n",
       "    .dataframe thead th {\n",
       "        text-align: right;\n",
       "    }\n",
       "</style>\n",
       "<table border=\"1\" class=\"dataframe\">\n",
       "  <thead>\n",
       "    <tr style=\"text-align: right;\">\n",
       "      <th></th>\n",
       "      <th>Row ID</th>\n",
       "      <th>Order Priority</th>\n",
       "      <th>Discount</th>\n",
       "      <th>Unit Price</th>\n",
       "      <th>Shipping Cost</th>\n",
       "      <th>Customer ID</th>\n",
       "      <th>Customer Name</th>\n",
       "      <th>Ship Mode</th>\n",
       "      <th>Customer Segment</th>\n",
       "      <th>Product Category</th>\n",
       "      <th>...</th>\n",
       "      <th>Region</th>\n",
       "      <th>State or Province</th>\n",
       "      <th>City</th>\n",
       "      <th>Postal Code</th>\n",
       "      <th>Order Date</th>\n",
       "      <th>Ship Date</th>\n",
       "      <th>Profit</th>\n",
       "      <th>Quantity ordered new</th>\n",
       "      <th>Sales</th>\n",
       "      <th>Order ID</th>\n",
       "    </tr>\n",
       "  </thead>\n",
       "  <tbody>\n",
       "    <tr>\n",
       "      <th>1947</th>\n",
       "      <td>19842</td>\n",
       "      <td>High</td>\n",
       "      <td>0.01</td>\n",
       "      <td>10.90</td>\n",
       "      <td>7.46</td>\n",
       "      <td>3397</td>\n",
       "      <td>Andrea Shaw</td>\n",
       "      <td>Regular Air</td>\n",
       "      <td>Small Business</td>\n",
       "      <td>Office Supplies</td>\n",
       "      <td>...</td>\n",
       "      <td>Central</td>\n",
       "      <td>Illinois</td>\n",
       "      <td>Danville</td>\n",
       "      <td>61832</td>\n",
       "      <td>2015-03-11</td>\n",
       "      <td>2015-03-12</td>\n",
       "      <td>-116.7600</td>\n",
       "      <td>18</td>\n",
       "      <td>207.31</td>\n",
       "      <td>87536</td>\n",
       "    </tr>\n",
       "    <tr>\n",
       "      <th>1948</th>\n",
       "      <td>19843</td>\n",
       "      <td>High</td>\n",
       "      <td>0.10</td>\n",
       "      <td>7.99</td>\n",
       "      <td>5.03</td>\n",
       "      <td>3397</td>\n",
       "      <td>Andrea Shaw</td>\n",
       "      <td>Regular Air</td>\n",
       "      <td>Small Business</td>\n",
       "      <td>Technology</td>\n",
       "      <td>...</td>\n",
       "      <td>Central</td>\n",
       "      <td>Illinois</td>\n",
       "      <td>Danville</td>\n",
       "      <td>61832</td>\n",
       "      <td>2015-03-11</td>\n",
       "      <td>2015-03-12</td>\n",
       "      <td>-160.9520</td>\n",
       "      <td>22</td>\n",
       "      <td>143.12</td>\n",
       "      <td>87536</td>\n",
       "    </tr>\n",
       "    <tr>\n",
       "      <th>1949</th>\n",
       "      <td>26208</td>\n",
       "      <td>Not Specified</td>\n",
       "      <td>0.08</td>\n",
       "      <td>11.97</td>\n",
       "      <td>5.81</td>\n",
       "      <td>3399</td>\n",
       "      <td>Marvin Reid</td>\n",
       "      <td>Regular Air</td>\n",
       "      <td>Small Business</td>\n",
       "      <td>Office Supplies</td>\n",
       "      <td>...</td>\n",
       "      <td>Central</td>\n",
       "      <td>Illinois</td>\n",
       "      <td>Des Plaines</td>\n",
       "      <td>60016</td>\n",
       "      <td>2015-03-29</td>\n",
       "      <td>2015-03-31</td>\n",
       "      <td>-41.8700</td>\n",
       "      <td>5</td>\n",
       "      <td>59.98</td>\n",
       "      <td>87534</td>\n",
       "    </tr>\n",
       "    <tr>\n",
       "      <th>1950</th>\n",
       "      <td>24911</td>\n",
       "      <td>Medium</td>\n",
       "      <td>0.10</td>\n",
       "      <td>9.38</td>\n",
       "      <td>4.93</td>\n",
       "      <td>3400</td>\n",
       "      <td>Florence Gold</td>\n",
       "      <td>Express Air</td>\n",
       "      <td>Small Business</td>\n",
       "      <td>Furniture</td>\n",
       "      <td>...</td>\n",
       "      <td>East</td>\n",
       "      <td>West Virginia</td>\n",
       "      <td>Fairmont</td>\n",
       "      <td>26554</td>\n",
       "      <td>2015-04-04</td>\n",
       "      <td>2015-04-04</td>\n",
       "      <td>-24.7104</td>\n",
       "      <td>15</td>\n",
       "      <td>135.78</td>\n",
       "      <td>87537</td>\n",
       "    </tr>\n",
       "    <tr>\n",
       "      <th>1951</th>\n",
       "      <td>25914</td>\n",
       "      <td>High</td>\n",
       "      <td>0.10</td>\n",
       "      <td>105.98</td>\n",
       "      <td>13.99</td>\n",
       "      <td>3403</td>\n",
       "      <td>Tammy Buckley</td>\n",
       "      <td>Express Air</td>\n",
       "      <td>Consumer</td>\n",
       "      <td>Furniture</td>\n",
       "      <td>...</td>\n",
       "      <td>West</td>\n",
       "      <td>Wyoming</td>\n",
       "      <td>Cheyenne</td>\n",
       "      <td>82001</td>\n",
       "      <td>2015-02-08</td>\n",
       "      <td>2015-02-11</td>\n",
       "      <td>349.4850</td>\n",
       "      <td>5</td>\n",
       "      <td>506.50</td>\n",
       "      <td>87530</td>\n",
       "    </tr>\n",
       "  </tbody>\n",
       "</table>\n",
       "<p>5 rows × 25 columns</p>\n",
       "</div>"
      ],
      "text/plain": [
       "      Row ID Order Priority  Discount  Unit Price  Shipping Cost  Customer ID  \\\n",
       "1947   19842           High      0.01       10.90           7.46         3397   \n",
       "1948   19843           High      0.10        7.99           5.03         3397   \n",
       "1949   26208  Not Specified      0.08       11.97           5.81         3399   \n",
       "1950   24911         Medium      0.10        9.38           4.93         3400   \n",
       "1951   25914           High      0.10      105.98          13.99         3403   \n",
       "\n",
       "      Customer Name    Ship Mode Customer Segment Product Category  ...  \\\n",
       "1947    Andrea Shaw  Regular Air   Small Business  Office Supplies  ...   \n",
       "1948    Andrea Shaw  Regular Air   Small Business       Technology  ...   \n",
       "1949    Marvin Reid  Regular Air   Small Business  Office Supplies  ...   \n",
       "1950  Florence Gold  Express Air   Small Business        Furniture  ...   \n",
       "1951  Tammy Buckley  Express Air         Consumer        Furniture  ...   \n",
       "\n",
       "       Region State or Province         City  Postal Code Order Date  \\\n",
       "1947  Central          Illinois     Danville        61832 2015-03-11   \n",
       "1948  Central          Illinois     Danville        61832 2015-03-11   \n",
       "1949  Central          Illinois  Des Plaines        60016 2015-03-29   \n",
       "1950     East     West Virginia     Fairmont        26554 2015-04-04   \n",
       "1951     West           Wyoming     Cheyenne        82001 2015-02-08   \n",
       "\n",
       "      Ship Date    Profit Quantity ordered new   Sales Order ID  \n",
       "1947 2015-03-12 -116.7600                   18  207.31    87536  \n",
       "1948 2015-03-12 -160.9520                   22  143.12    87536  \n",
       "1949 2015-03-31  -41.8700                    5   59.98    87534  \n",
       "1950 2015-04-04  -24.7104                   15  135.78    87537  \n",
       "1951 2015-02-11  349.4850                    5  506.50    87530  \n",
       "\n",
       "[5 rows x 25 columns]"
      ]
     },
     "execution_count": 84,
     "metadata": {},
     "output_type": "execute_result"
    }
   ],
   "source": [
    "# Display last 5 Rows.\n",
    "df.tail(5)"
   ]
  },
  {
   "cell_type": "code",
   "execution_count": 85,
   "id": "84a4fa63-8605-411a-b6f0-d4b5ae4dd2ec",
   "metadata": {},
   "outputs": [
    {
     "data": {
      "text/html": [
       "<div>\n",
       "<style scoped>\n",
       "    .dataframe tbody tr th:only-of-type {\n",
       "        vertical-align: middle;\n",
       "    }\n",
       "\n",
       "    .dataframe tbody tr th {\n",
       "        vertical-align: top;\n",
       "    }\n",
       "\n",
       "    .dataframe thead th {\n",
       "        text-align: right;\n",
       "    }\n",
       "</style>\n",
       "<table border=\"1\" class=\"dataframe\">\n",
       "  <thead>\n",
       "    <tr style=\"text-align: right;\">\n",
       "      <th></th>\n",
       "      <th>Row ID</th>\n",
       "      <th>Order Priority</th>\n",
       "      <th>Discount</th>\n",
       "      <th>Unit Price</th>\n",
       "      <th>Shipping Cost</th>\n",
       "      <th>Customer ID</th>\n",
       "      <th>Customer Name</th>\n",
       "      <th>Ship Mode</th>\n",
       "      <th>Customer Segment</th>\n",
       "      <th>Product Category</th>\n",
       "      <th>...</th>\n",
       "      <th>Region</th>\n",
       "      <th>State or Province</th>\n",
       "      <th>City</th>\n",
       "      <th>Postal Code</th>\n",
       "      <th>Order Date</th>\n",
       "      <th>Ship Date</th>\n",
       "      <th>Profit</th>\n",
       "      <th>Quantity ordered new</th>\n",
       "      <th>Sales</th>\n",
       "      <th>Order ID</th>\n",
       "    </tr>\n",
       "  </thead>\n",
       "  <tbody>\n",
       "    <tr>\n",
       "      <th>83</th>\n",
       "      <td>22907</td>\n",
       "      <td>Medium</td>\n",
       "      <td>0.06</td>\n",
       "      <td>180.98</td>\n",
       "      <td>26.20</td>\n",
       "      <td>146</td>\n",
       "      <td>Yvonne Fox</td>\n",
       "      <td>Delivery Truck</td>\n",
       "      <td>Corporate</td>\n",
       "      <td>Furniture</td>\n",
       "      <td>...</td>\n",
       "      <td>Central</td>\n",
       "      <td>Texas</td>\n",
       "      <td>Watauga</td>\n",
       "      <td>76148</td>\n",
       "      <td>2015-04-23</td>\n",
       "      <td>2015-04-24</td>\n",
       "      <td>251.4084</td>\n",
       "      <td>5</td>\n",
       "      <td>929.57</td>\n",
       "      <td>91090</td>\n",
       "    </tr>\n",
       "    <tr>\n",
       "      <th>1131</th>\n",
       "      <td>18251</td>\n",
       "      <td>Not Specified</td>\n",
       "      <td>0.07</td>\n",
       "      <td>31.78</td>\n",
       "      <td>1.99</td>\n",
       "      <td>2052</td>\n",
       "      <td>Francis Kendall</td>\n",
       "      <td>Regular Air</td>\n",
       "      <td>Home Office</td>\n",
       "      <td>Technology</td>\n",
       "      <td>...</td>\n",
       "      <td>West</td>\n",
       "      <td>New Mexico</td>\n",
       "      <td>Albuquerque</td>\n",
       "      <td>87105</td>\n",
       "      <td>2015-02-19</td>\n",
       "      <td>2015-02-21</td>\n",
       "      <td>265.1118</td>\n",
       "      <td>13</td>\n",
       "      <td>384.22</td>\n",
       "      <td>87234</td>\n",
       "    </tr>\n",
       "    <tr>\n",
       "      <th>1861</th>\n",
       "      <td>21852</td>\n",
       "      <td>Medium</td>\n",
       "      <td>0.00</td>\n",
       "      <td>25.38</td>\n",
       "      <td>8.99</td>\n",
       "      <td>3257</td>\n",
       "      <td>Sharon Marcus</td>\n",
       "      <td>Regular Air</td>\n",
       "      <td>Consumer</td>\n",
       "      <td>Furniture</td>\n",
       "      <td>...</td>\n",
       "      <td>West</td>\n",
       "      <td>Washington</td>\n",
       "      <td>Longview</td>\n",
       "      <td>98632</td>\n",
       "      <td>2015-05-13</td>\n",
       "      <td>2015-05-15</td>\n",
       "      <td>470.3380</td>\n",
       "      <td>26</td>\n",
       "      <td>700.41</td>\n",
       "      <td>88826</td>\n",
       "    </tr>\n",
       "    <tr>\n",
       "      <th>112</th>\n",
       "      <td>20646</td>\n",
       "      <td>Medium</td>\n",
       "      <td>0.09</td>\n",
       "      <td>3.29</td>\n",
       "      <td>1.35</td>\n",
       "      <td>194</td>\n",
       "      <td>Tammy Goldman</td>\n",
       "      <td>Regular Air</td>\n",
       "      <td>Corporate</td>\n",
       "      <td>Office Supplies</td>\n",
       "      <td>...</td>\n",
       "      <td>West</td>\n",
       "      <td>Utah</td>\n",
       "      <td>Lehi</td>\n",
       "      <td>84043</td>\n",
       "      <td>2015-03-30</td>\n",
       "      <td>2015-04-01</td>\n",
       "      <td>15.6600</td>\n",
       "      <td>23</td>\n",
       "      <td>71.55</td>\n",
       "      <td>90432</td>\n",
       "    </tr>\n",
       "    <tr>\n",
       "      <th>1790</th>\n",
       "      <td>23706</td>\n",
       "      <td>Not Specified</td>\n",
       "      <td>0.05</td>\n",
       "      <td>4.06</td>\n",
       "      <td>6.89</td>\n",
       "      <td>3138</td>\n",
       "      <td>Herbert Donnelly Swanson</td>\n",
       "      <td>Express Air</td>\n",
       "      <td>Corporate</td>\n",
       "      <td>Office Supplies</td>\n",
       "      <td>...</td>\n",
       "      <td>East</td>\n",
       "      <td>New Hampshire</td>\n",
       "      <td>Londonderry</td>\n",
       "      <td>3053</td>\n",
       "      <td>2015-06-19</td>\n",
       "      <td>2015-06-21</td>\n",
       "      <td>-122.8350</td>\n",
       "      <td>22</td>\n",
       "      <td>92.57</td>\n",
       "      <td>86796</td>\n",
       "    </tr>\n",
       "  </tbody>\n",
       "</table>\n",
       "<p>5 rows × 25 columns</p>\n",
       "</div>"
      ],
      "text/plain": [
       "      Row ID Order Priority  Discount  Unit Price  Shipping Cost  Customer ID  \\\n",
       "83     22907         Medium      0.06      180.98          26.20          146   \n",
       "1131   18251  Not Specified      0.07       31.78           1.99         2052   \n",
       "1861   21852         Medium      0.00       25.38           8.99         3257   \n",
       "112    20646         Medium      0.09        3.29           1.35          194   \n",
       "1790   23706  Not Specified      0.05        4.06           6.89         3138   \n",
       "\n",
       "                 Customer Name       Ship Mode Customer Segment  \\\n",
       "83                  Yvonne Fox  Delivery Truck        Corporate   \n",
       "1131           Francis Kendall     Regular Air      Home Office   \n",
       "1861             Sharon Marcus     Regular Air         Consumer   \n",
       "112              Tammy Goldman     Regular Air        Corporate   \n",
       "1790  Herbert Donnelly Swanson     Express Air        Corporate   \n",
       "\n",
       "     Product Category  ...   Region State or Province         City  \\\n",
       "83          Furniture  ...  Central             Texas      Watauga   \n",
       "1131       Technology  ...     West        New Mexico  Albuquerque   \n",
       "1861        Furniture  ...     West        Washington     Longview   \n",
       "112   Office Supplies  ...     West              Utah         Lehi   \n",
       "1790  Office Supplies  ...     East     New Hampshire  Londonderry   \n",
       "\n",
       "      Postal Code Order Date  Ship Date    Profit Quantity ordered new  \\\n",
       "83          76148 2015-04-23 2015-04-24  251.4084                    5   \n",
       "1131        87105 2015-02-19 2015-02-21  265.1118                   13   \n",
       "1861        98632 2015-05-13 2015-05-15  470.3380                   26   \n",
       "112         84043 2015-03-30 2015-04-01   15.6600                   23   \n",
       "1790         3053 2015-06-19 2015-06-21 -122.8350                   22   \n",
       "\n",
       "       Sales Order ID  \n",
       "83    929.57    91090  \n",
       "1131  384.22    87234  \n",
       "1861  700.41    88826  \n",
       "112    71.55    90432  \n",
       "1790   92.57    86796  \n",
       "\n",
       "[5 rows x 25 columns]"
      ]
     },
     "execution_count": 85,
     "metadata": {},
     "output_type": "execute_result"
    }
   ],
   "source": [
    "# Display random 5 rows.\n",
    "df.sample(5)"
   ]
  },
  {
   "cell_type": "code",
   "execution_count": 86,
   "id": "3a924bd2-0690-48fa-a6a7-12f8f5534e40",
   "metadata": {},
   "outputs": [
    {
     "data": {
      "text/plain": [
       "Index(['Row ID', 'Order Priority', 'Discount', 'Unit Price', 'Shipping Cost',\n",
       "       'Customer ID', 'Customer Name', 'Ship Mode', 'Customer Segment',\n",
       "       'Product Category', 'Product Sub-Category', 'Product Container',\n",
       "       'Product Name', 'Product Base Margin', 'Country', 'Region',\n",
       "       'State or Province', 'City', 'Postal Code', 'Order Date', 'Ship Date',\n",
       "       'Profit', 'Quantity ordered new', 'Sales', 'Order ID'],\n",
       "      dtype='object')"
      ]
     },
     "execution_count": 86,
     "metadata": {},
     "output_type": "execute_result"
    }
   ],
   "source": [
    "df.columns"
   ]
  },
  {
   "cell_type": "code",
   "execution_count": 87,
   "id": "47954986-506c-4c77-851d-bb97632c0e5f",
   "metadata": {},
   "outputs": [
    {
     "data": {
      "text/plain": [
       "Row ID                           int64\n",
       "Order Priority                  object\n",
       "Discount                       float64\n",
       "Unit Price                     float64\n",
       "Shipping Cost                  float64\n",
       "Customer ID                      int64\n",
       "Customer Name                   object\n",
       "Ship Mode                       object\n",
       "Customer Segment                object\n",
       "Product Category                object\n",
       "Product Sub-Category            object\n",
       "Product Container               object\n",
       "Product Name                    object\n",
       "Product Base Margin            float64\n",
       "Country                         object\n",
       "Region                          object\n",
       "State or Province               object\n",
       "City                            object\n",
       "Postal Code                      int64\n",
       "Order Date              datetime64[ns]\n",
       "Ship Date               datetime64[ns]\n",
       "Profit                         float64\n",
       "Quantity ordered new             int64\n",
       "Sales                          float64\n",
       "Order ID                         int64\n",
       "dtype: object"
      ]
     },
     "execution_count": 87,
     "metadata": {},
     "output_type": "execute_result"
    }
   ],
   "source": [
    "# Display Datatypes of all features.\n",
    "df.dtypes"
   ]
  },
  {
   "cell_type": "code",
   "execution_count": 88,
   "id": "2ed8c75b-b30b-44be-a201-51f09f06b9d2",
   "metadata": {},
   "outputs": [
    {
     "data": {
      "text/plain": [
       "1951"
      ]
     },
     "execution_count": 88,
     "metadata": {},
     "output_type": "execute_result"
    }
   ],
   "source": [
    "# identify number of unique values in each feature\n",
    "len(set(df['Row ID']))"
   ]
  },
  {
   "cell_type": "code",
   "execution_count": 89,
   "id": "30dfb905-f679-4d10-9d59-d98756db22e5",
   "metadata": {},
   "outputs": [
    {
     "data": {
      "text/plain": [
       "1951"
      ]
     },
     "execution_count": 89,
     "metadata": {},
     "output_type": "execute_result"
    }
   ],
   "source": [
    "df['Row ID'].nunique()"
   ]
  },
  {
   "cell_type": "code",
   "execution_count": 90,
   "id": "272397eb-40cc-490c-9a04-bd7c31c30921",
   "metadata": {},
   "outputs": [
    {
     "data": {
      "text/plain": [
       "Index(['Row ID', 'Order Priority', 'Discount', 'Unit Price', 'Shipping Cost',\n",
       "       'Customer ID', 'Customer Name', 'Ship Mode', 'Customer Segment',\n",
       "       'Product Category', 'Product Sub-Category', 'Product Container',\n",
       "       'Product Name', 'Product Base Margin', 'Country', 'Region',\n",
       "       'State or Province', 'City', 'Postal Code', 'Order Date', 'Ship Date',\n",
       "       'Profit', 'Quantity ordered new', 'Sales', 'Order ID'],\n",
       "      dtype='object')"
      ]
     },
     "execution_count": 90,
     "metadata": {},
     "output_type": "execute_result"
    }
   ],
   "source": [
    "df.columns"
   ]
  },
  {
   "cell_type": "code",
   "execution_count": 91,
   "id": "66dc75c6-be84-4720-bb77-0cc80d960b59",
   "metadata": {},
   "outputs": [
    {
     "name": "stdout",
     "output_type": "stream",
     "text": [
      "Row ID \t 1951\n",
      "Order Priority \t 6\n",
      "Discount \t 13\n",
      "Unit Price \t 597\n",
      "Shipping Cost \t 497\n",
      "Customer ID \t 1130\n",
      "Customer Name \t 1130\n",
      "Ship Mode \t 3\n",
      "Customer Segment \t 4\n",
      "Product Category \t 3\n",
      "Product Sub-Category \t 17\n",
      "Product Container \t 7\n",
      "Product Name \t 913\n",
      "Product Base Margin \t 51\n",
      "Country \t 1\n",
      "Region \t 4\n",
      "State or Province \t 49\n",
      "City \t 869\n",
      "Postal Code \t 981\n",
      "Order Date \t 179\n",
      "Ship Date \t 187\n",
      "Profit \t 1898\n",
      "Quantity ordered new \t 76\n",
      "Sales \t 1922\n",
      "Order ID \t 1365\n"
     ]
    }
   ],
   "source": [
    "for i in df.columns:\n",
    "    print(i,\"\\t\",df[i].nunique())"
   ]
  },
  {
   "cell_type": "code",
   "execution_count": 92,
   "id": "26b6f5e1-56db-4802-a026-34db7427cea7",
   "metadata": {},
   "outputs": [
    {
     "name": "stdout",
     "output_type": "stream",
     "text": [
      "continuous : ['Row ID', 'Unit Price', 'Shipping Cost', 'Customer ID', 'Customer Name', 'Product Name', 'Product Base Margin', 'City', 'Postal Code', 'Order Date', 'Ship Date', 'Profit', 'Quantity ordered new', 'Sales', 'Order ID']\n",
      "\n",
      " categorical : ['Order Priority', 'Discount', 'Ship Mode', 'Customer Segment', 'Product Category', 'Product Sub-Category', 'Product Container', 'Country', 'Region', 'State or Province']\n"
     ]
    }
   ],
   "source": [
    "# to classify features into i.categorical  ii. continuous\n",
    "cat = []\n",
    "cont = []\n",
    "for i in df.columns:\n",
    "    if df[i].nunique() >= 50:\n",
    "        cont.append(i)\n",
    "    else:\n",
    "        cat.append(i)\n",
    "\n",
    "print(\"continuous :\",cont)\n",
    "print(\"\\n categorical :\",cat)"
   ]
  },
  {
   "cell_type": "code",
   "execution_count": 93,
   "id": "eee325b8-78b6-46ca-87b2-667e66b1b7fa",
   "metadata": {},
   "outputs": [
    {
     "data": {
      "text/plain": [
       "Row ID                           int64\n",
       "Unit Price                     float64\n",
       "Shipping Cost                  float64\n",
       "Customer ID                      int64\n",
       "Customer Name                   object\n",
       "Product Name                    object\n",
       "Product Base Margin            float64\n",
       "City                            object\n",
       "Postal Code                      int64\n",
       "Order Date              datetime64[ns]\n",
       "Ship Date               datetime64[ns]\n",
       "Profit                         float64\n",
       "Quantity ordered new             int64\n",
       "Sales                          float64\n",
       "Order ID                         int64\n",
       "dtype: object"
      ]
     },
     "execution_count": 93,
     "metadata": {},
     "output_type": "execute_result"
    }
   ],
   "source": [
    "# numerical feature from continuous data \n",
    "df[cont].dtypes"
   ]
  },
  {
   "cell_type": "code",
   "execution_count": 94,
   "id": "6f9d798a-2af5-4193-b989-923deb0f98ac",
   "metadata": {},
   "outputs": [
    {
     "name": "stdout",
     "output_type": "stream",
     "text": [
      "Order Priority \t ['High' 'Not Specified' 'Critical' 'Medium' 'Low' 'Critical '] \n",
      "\n",
      "Discount \t [0.01 0.02 0.06 0.09 0.08 0.05 0.   0.04 0.07 0.03 0.1  0.17 0.21] \n",
      "\n",
      "Ship Mode \t ['Express Air' 'Delivery Truck' 'Regular Air'] \n",
      "\n",
      "Customer Segment \t ['Corporate' 'Home Office' 'Small Business' 'Consumer'] \n",
      "\n",
      "Product Category \t ['Office Supplies' 'Furniture' 'Technology'] \n",
      "\n",
      "Product Sub-Category \t ['Pens & Art Supplies' 'Chairs & Chairmats' 'Office Furnishings'\n",
      " 'Rubber Bands' 'Envelopes' 'Telephones and Communication'\n",
      " 'Office Machines' 'Paper' 'Binders and Binder Accessories' 'Labels'\n",
      " 'Storage & Organization' 'Tables' 'Scissors, Rulers and Trimmers'\n",
      " 'Computer Peripherals' 'Bookcases' 'Appliances' 'Copiers and Fax'] \n",
      "\n",
      "Product Container \t ['Wrap Bag' 'Jumbo Drum' 'Small Pack' 'Small Box' 'Medium Box' 'Jumbo Box'\n",
      " 'Large Box'] \n",
      "\n",
      "Country \t ['United States'] \n",
      "\n",
      "Region \t ['West' 'East' 'Central' 'South'] \n",
      "\n",
      "State or Province \t ['Washington' 'California' 'New Jersey' 'Minnesota' 'New York' 'Montana'\n",
      " 'Oregon' 'Texas' 'Virginia' 'Vermont' 'Ohio' 'Louisiana' 'Illinois'\n",
      " 'Kansas' 'Maine' 'Massachusetts' 'New Hampshire' 'Utah' 'Connecticut'\n",
      " 'Pennsylvania' 'Tennessee' 'Colorado' 'Michigan' 'Oklahoma'\n",
      " 'North Carolina' 'Iowa' 'Florida' 'New Mexico' 'Arizona' 'Georgia'\n",
      " 'Maryland' 'Rhode Island' 'Nebraska' 'Missouri' 'Nevada' 'Kentucky'\n",
      " 'West Virginia' 'Mississippi' 'Indiana' 'South Carolina' 'Arkansas'\n",
      " 'District of Columbia' 'Delaware' 'Alabama' 'Idaho' 'Wisconsin'\n",
      " 'South Dakota' 'Wyoming' 'North Dakota'] \n",
      "\n"
     ]
    }
   ],
   "source": [
    "# identify unique values from all categorical features.  unique()\n",
    "for i in cat:\n",
    "    print(i,\"\\t\",df[i].unique(),\"\\n\")"
   ]
  },
  {
   "cell_type": "markdown",
   "id": "7ac63cdc-beba-49a8-9df5-9a5aea54494a",
   "metadata": {},
   "source": [
    "## univariate analysis :"
   ]
  },
  {
   "cell_type": "code",
   "execution_count": 96,
   "id": "24450066-3472-461d-9681-cbf835c715e4",
   "metadata": {},
   "outputs": [],
   "source": [
    "# 1 order priority\n",
    "# identify unique values`\n",
    "# remove errors if any\n",
    "# display count of class in percentage\n",
    "# visualize count"
   ]
  },
  {
   "cell_type": "code",
   "execution_count": 97,
   "id": "6107feca-59fb-4d67-9151-23ee29facf96",
   "metadata": {},
   "outputs": [
    {
     "data": {
      "text/plain": [
       "array(['High', 'Not Specified', 'Critical', 'Medium', 'Low', 'Critical '],\n",
       "      dtype=object)"
      ]
     },
     "execution_count": 97,
     "metadata": {},
     "output_type": "execute_result"
    }
   ],
   "source": [
    "# 1 # identify unique values`\n",
    "df['Order Priority'].unique()"
   ]
  },
  {
   "cell_type": "code",
   "execution_count": 98,
   "id": "761a6c44-3fb6-4aa6-80f8-94cfcc105cc9",
   "metadata": {},
   "outputs": [
    {
     "data": {
      "text/plain": [
       "Order Priority\n",
       "Low              398\n",
       "Not Specified    396\n",
       "High             391\n",
       "Critical         390\n",
       "Medium           376\n",
       "Critical           1\n",
       "Name: count, dtype: int64"
      ]
     },
     "execution_count": 98,
     "metadata": {},
     "output_type": "execute_result"
    }
   ],
   "source": [
    "# identify count of each class\n",
    "df['Order Priority'].value_counts()"
   ]
  },
  {
   "cell_type": "code",
   "execution_count": 99,
   "id": "fe43edcd-31b8-442d-bccd-560207aa2534",
   "metadata": {},
   "outputs": [
    {
     "data": {
      "text/plain": [
       "<Axes: xlabel='Order Priority'>"
      ]
     },
     "execution_count": 99,
     "metadata": {},
     "output_type": "execute_result"
    },
    {
     "data": {
      "image/png": "[encoded data removed]",
      "text/plain": [
       "<Figure size 640x480 with 1 Axes>"
      ]
     },
     "metadata": {},
     "output_type": "display_data"
    }
   ],
   "source": [
    "# visualize\n",
    "df['Order Priority'].value_counts().plot.bar()"
   ]
  },
  {
   "cell_type": "code",
   "execution_count": 100,
   "id": "7c27f278-0746-4b88-9587-5ab0a8946423",
   "metadata": {},
   "outputs": [
    {
     "data": {
      "text/plain": [
       "Order Priority\n",
       "Low              398\n",
       "Not Specified    396\n",
       "High             391\n",
       "Critical         390\n",
       "Medium           376\n",
       "Critical           1\n",
       "Name: count, dtype: int64"
      ]
     },
     "execution_count": 100,
     "metadata": {},
     "output_type": "execute_result"
    }
   ],
   "source": [
    "# list comprehension\n",
    "df['Order Priority'] = ['critical'     if i == 'critical'  else i        for i in df['Order Priority']]\n",
    "df['Order Priority'].value_counts()"
   ]
  },
  {
   "cell_type": "code",
   "execution_count": 101,
   "id": "470fb603-c46c-4271-a71b-c4a4cf3f2011",
   "metadata": {},
   "outputs": [
    {
     "data": {
      "text/plain": [
       "Order Priority\n",
       "Low              20.389344\n",
       "Not Specified    20.286885\n",
       "High             20.030738\n",
       "Critical         19.979508\n",
       "Medium           19.262295\n",
       "Critical          0.051230\n",
       "Name: count, dtype: float64"
      ]
     },
     "execution_count": 101,
     "metadata": {},
     "output_type": "execute_result"
    }
   ],
   "source": [
    "# display count of class i percentage\n",
    "df['Order Priority'].value_counts() / df.shape[0] * 100"
   ]
  },
  {
   "cell_type": "code",
   "execution_count": 102,
   "id": "00fad7b4-ad11-4915-b541-ae6c06386bce",
   "metadata": {},
   "outputs": [
    {
     "data": {
      "text/plain": [
       "<Axes: ylabel='count'>"
      ]
     },
     "execution_count": 102,
     "metadata": {},
     "output_type": "execute_result"
    },
    {
     "data": {
      "image/png": "[encoded data removed]",
      "text/plain": [
       "<Figure size 640x480 with 1 Axes>"
      ]
     },
     "metadata": {},
     "output_type": "display_data"
    }
   ],
   "source": [
    "# visualize percentage\n",
    "np.round(df['Order Priority'].value_counts() / df.shape[0] * 100,2).plot.pie()"
   ]
  },
  {
   "cell_type": "code",
   "execution_count": 103,
   "id": "32aacebf-940c-4b60-b6b8-e899e60a8ac6",
   "metadata": {},
   "outputs": [
    {
     "data": {
      "image/png": "[encoded data removed]",
      "text/plain": [
       "<Figure size 800x800 with 1 Axes>"
      ]
     },
     "metadata": {},
     "output_type": "display_data"
    }
   ],
   "source": [
    "percentages = np.round(df['Order Priority'].value_counts() / df.shape[0] * 100, 2)\n",
    "\n",
    "# Plotting the pie chart\n",
    "plt.figure(figsize=(8, 8))\n",
    "plt.pie(percentages, labels=percentages.index, autopct='%1.2f%%', startangle=90, colors=plt.cm.Paired.colors)\n",
    "\n",
    "# Equal aspect ratio ensures that pie is drawn as a circle\n",
    "plt.axis('equal')\n",
    "plt.title('Order Priority Distribution')\n",
    "plt.show()\n"
   ]
  },
  {
   "cell_type": "code",
   "execution_count": 104,
   "id": "a56d84d9-4fee-4191-a294-2309860a2d3b",
   "metadata": {},
   "outputs": [
    {
     "data": {
      "text/plain": [
       "['Order Priority',\n",
       " 'Discount',\n",
       " 'Ship Mode',\n",
       " 'Customer Segment',\n",
       " 'Product Category',\n",
       " 'Product Sub-Category',\n",
       " 'Product Container',\n",
       " 'Country',\n",
       " 'Region',\n",
       " 'State or Province']"
      ]
     },
     "execution_count": 104,
     "metadata": {},
     "output_type": "execute_result"
    }
   ],
   "source": [
    "cat"
   ]
  },
  {
   "cell_type": "code",
   "execution_count": 105,
   "id": "d4a9405e-2b6e-4819-856e-684f9e792844",
   "metadata": {},
   "outputs": [],
   "source": [
    "# product category\n",
    "# 1. identify unique value\n",
    "# 2. display count of each class\n",
    "# 3.visualize"
   ]
  },
  {
   "cell_type": "code",
   "execution_count": 106,
   "id": "00956912-abac-41b6-83c5-249f953fba8e",
   "metadata": {},
   "outputs": [
    {
     "data": {
      "text/plain": [
       "3"
      ]
     },
     "execution_count": 106,
     "metadata": {},
     "output_type": "execute_result"
    }
   ],
   "source": [
    "# 1. identify unique value\n",
    "df['Product Category'].nunique()"
   ]
  },
  {
   "cell_type": "code",
   "execution_count": 107,
   "id": "8584ba28-ecbc-46b4-93b7-b5f6fe83c3a2",
   "metadata": {},
   "outputs": [
    {
     "data": {
      "text/plain": [
       "Product Category\n",
       "Office Supplies    1071\n",
       "Technology          481\n",
       "Furniture           400\n",
       "Name: count, dtype: int64"
      ]
     },
     "execution_count": 107,
     "metadata": {},
     "output_type": "execute_result"
    }
   ],
   "source": [
    "# 2. display count of each class\n",
    "df['Product Category'].value_counts()"
   ]
  },
  {
   "cell_type": "code",
   "execution_count": 108,
   "id": "b1259438-c4a3-4c79-8fe2-1d44865f2f78",
   "metadata": {},
   "outputs": [
    {
     "data": {
      "text/plain": [
       "<Axes: ylabel='Product Category'>"
      ]
     },
     "execution_count": 108,
     "metadata": {},
     "output_type": "execute_result"
    },
    {
     "data": {
      "image/png": "[encoded data removed]",
      "text/plain": [
       "<Figure size 640x480 with 1 Axes>"
      ]
     },
     "metadata": {},
     "output_type": "display_data"
    }
   ],
   "source": [
    "(df['Product Category'].value_counts() / df.shape[0] * 100).plot.barh()"
   ]
  },
  {
   "cell_type": "code",
   "execution_count": 109,
   "id": "a6ce98e7-84b7-437d-ad2d-eab1e23b8a39",
   "metadata": {},
   "outputs": [
    {
     "name": "stdout",
     "output_type": "stream",
     "text": [
      "Order Priority\n",
      "\n",
      "['High' 'Not Specified' 'Critical' 'Medium' 'Low' 'Critical ']\n",
      "Order Priority\n",
      "Low              398\n",
      "Not Specified    396\n",
      "High             391\n",
      "Critical         390\n",
      "Medium           376\n",
      "Critical           1\n",
      "Name: count, dtype: int64\n",
      "-------------------------------------------------------------------------------\n",
      "Discount\n",
      "\n",
      "[0.01 0.02 0.06 0.09 0.08 0.05 0.   0.04 0.07 0.03 0.1  0.17 0.21]\n",
      "Discount\n",
      "0.05    193\n",
      "0.03    192\n",
      "0.02    189\n",
      "0.01    188\n",
      "0.09    182\n",
      "0.04    180\n",
      "0.06    178\n",
      "0.07    177\n",
      "0.00    166\n",
      "0.10    155\n",
      "0.08    150\n",
      "0.17      1\n",
      "0.21      1\n",
      "Name: count, dtype: int64\n",
      "-------------------------------------------------------------------------------\n",
      "Ship Mode\n",
      "\n",
      "['Express Air' 'Delivery Truck' 'Regular Air']\n",
      "Ship Mode\n",
      "Regular Air       1437\n",
      "Delivery Truck     275\n",
      "Express Air        240\n",
      "Name: count, dtype: int64\n",
      "-------------------------------------------------------------------------------\n",
      "Customer Segment\n",
      "\n",
      "['Corporate' 'Home Office' 'Small Business' 'Consumer']\n",
      "Customer Segment\n",
      "Corporate         684\n",
      "Home Office       470\n",
      "Consumer          410\n",
      "Small Business    388\n",
      "Name: count, dtype: int64\n",
      "-------------------------------------------------------------------------------\n",
      "Product Category\n",
      "\n",
      "['Office Supplies' 'Furniture' 'Technology']\n",
      "Product Category\n",
      "Office Supplies    1071\n",
      "Technology          481\n",
      "Furniture           400\n",
      "Name: count, dtype: int64\n",
      "-------------------------------------------------------------------------------\n",
      "Product Sub-Category\n",
      "\n",
      "['Pens & Art Supplies' 'Chairs & Chairmats' 'Office Furnishings'\n",
      " 'Rubber Bands' 'Envelopes' 'Telephones and Communication'\n",
      " 'Office Machines' 'Paper' 'Binders and Binder Accessories' 'Labels'\n",
      " 'Storage & Organization' 'Tables' 'Scissors, Rulers and Trimmers'\n",
      " 'Computer Peripherals' 'Bookcases' 'Appliances' 'Copiers and Fax']\n",
      "Product Sub-Category\n",
      "Paper                             284\n",
      "Binders and Binder Accessories    200\n",
      "Telephones and Communication      194\n",
      "Office Furnishings                185\n",
      "Computer Peripherals              174\n",
      "Pens & Art Supplies               161\n",
      "Storage & Organization            130\n",
      "Appliances                        100\n",
      "Office Machines                    95\n",
      "Chairs & Chairmats                 92\n",
      "Tables                             80\n",
      "Labels                             71\n",
      "Envelopes                          55\n",
      "Bookcases                          43\n",
      "Scissors, Rulers and Trimmers      36\n",
      "Rubber Bands                       34\n",
      "Copiers and Fax                    18\n",
      "Name: count, dtype: int64\n",
      "-------------------------------------------------------------------------------\n",
      "Product Container\n",
      "\n",
      "['Wrap Bag' 'Jumbo Drum' 'Small Pack' 'Small Box' 'Medium Box' 'Jumbo Box'\n",
      " 'Large Box']\n",
      "Product Container\n",
      "Small Box     991\n",
      "Wrap Bag      279\n",
      "Small Pack    219\n",
      "Jumbo Drum    152\n",
      "Jumbo Box     124\n",
      "Large Box     100\n",
      "Medium Box     87\n",
      "Name: count, dtype: int64\n",
      "-------------------------------------------------------------------------------\n",
      "Country\n",
      "\n",
      "['United States']\n",
      "Country\n",
      "United States    1952\n",
      "Name: count, dtype: int64\n",
      "-------------------------------------------------------------------------------\n",
      "Region\n",
      "\n",
      "['West' 'East' 'Central' 'South']\n",
      "Region\n",
      "Central    566\n",
      "East       474\n",
      "West       470\n",
      "South      442\n",
      "Name: count, dtype: int64\n",
      "-------------------------------------------------------------------------------\n",
      "State or Province\n",
      "\n",
      "['Washington' 'California' 'New Jersey' 'Minnesota' 'New York' 'Montana'\n",
      " 'Oregon' 'Texas' 'Virginia' 'Vermont' 'Ohio' 'Louisiana' 'Illinois'\n",
      " 'Kansas' 'Maine' 'Massachusetts' 'New Hampshire' 'Utah' 'Connecticut'\n",
      " 'Pennsylvania' 'Tennessee' 'Colorado' 'Michigan' 'Oklahoma'\n",
      " 'North Carolina' 'Iowa' 'Florida' 'New Mexico' 'Arizona' 'Georgia'\n",
      " 'Maryland' 'Rhode Island' 'Nebraska' 'Missouri' 'Nevada' 'Kentucky'\n",
      " 'West Virginia' 'Mississippi' 'Indiana' 'South Carolina' 'Arkansas'\n",
      " 'District of Columbia' 'Delaware' 'Alabama' 'Idaho' 'Wisconsin'\n",
      " 'South Dakota' 'Wyoming' 'North Dakota']\n",
      "State or Province\n",
      "California              214\n",
      "New York                129\n",
      "Texas                   124\n",
      "Florida                 123\n",
      "Illinois                 88\n",
      "Ohio                     81\n",
      "Michigan                 66\n",
      "Washington               61\n",
      "Indiana                  53\n",
      "Pennsylvania             52\n",
      "Minnesota                51\n",
      "Virginia                 51\n",
      "North Carolina           49\n",
      "Massachusetts            46\n",
      "Colorado                 44\n",
      "Georgia                  44\n",
      "Tennessee                41\n",
      "Wisconsin                39\n",
      "Utah                     38\n",
      "Iowa                     38\n",
      "Maryland                 34\n",
      "New Jersey               32\n",
      "Arizona                  31\n",
      "South Carolina           30\n",
      "Oregon                   28\n",
      "Missouri                 27\n",
      "Maine                    27\n",
      "Kansas                   27\n",
      "Alabama                  22\n",
      "Kentucky                 22\n",
      "Arkansas                 22\n",
      "Louisiana                20\n",
      "Connecticut              20\n",
      "Idaho                    20\n",
      "Nebraska                 18\n",
      "Oklahoma                 18\n",
      "Mississippi              18\n",
      "District of Columbia     15\n",
      "Nevada                   14\n",
      "Vermont                  11\n",
      "New Hampshire            11\n",
      "North Dakota             10\n",
      "New Mexico               10\n",
      "West Virginia             9\n",
      "Montana                   7\n",
      "South Dakota              7\n",
      "Rhode Island              5\n",
      "Wyoming                   3\n",
      "Delaware                  2\n",
      "Name: count, dtype: int64\n",
      "-------------------------------------------------------------------------------\n"
     ]
    }
   ],
   "source": [
    "for i in cat:\n",
    "    print(i)\n",
    "    print()\n",
    "    print(df[i].unique())\n",
    "    print(df[i].value_counts())\n",
    "    print('-------------------------------------------------------------------------------')"
   ]
  },
  {
   "cell_type": "code",
   "execution_count": 110,
   "id": "74be69ad-2413-44d6-ad1f-e0a495e3a8e2",
   "metadata": {},
   "outputs": [
    {
     "data": {
      "text/plain": [
       "['Row ID',\n",
       " 'Unit Price',\n",
       " 'Shipping Cost',\n",
       " 'Customer ID',\n",
       " 'Customer Name',\n",
       " 'Product Name',\n",
       " 'Product Base Margin',\n",
       " 'City',\n",
       " 'Postal Code',\n",
       " 'Order Date',\n",
       " 'Ship Date',\n",
       " 'Profit',\n",
       " 'Quantity ordered new',\n",
       " 'Sales',\n",
       " 'Order ID']"
      ]
     },
     "execution_count": 110,
     "metadata": {},
     "output_type": "execute_result"
    }
   ],
   "source": [
    "cont"
   ]
  },
  {
   "cell_type": "code",
   "execution_count": 111,
   "id": "d22cef48-6f00-4063-9405-dd6e8d2b950d",
   "metadata": {},
   "outputs": [
    {
     "data": {
      "text/plain": [
       "Region   Product Category\n",
       "Central  Office Supplies     315\n",
       "         Technology          131\n",
       "         Furniture           120\n",
       "East     Office Supplies     265\n",
       "         Technology          110\n",
       "         Furniture            99\n",
       "South    Office Supplies     238\n",
       "         Technology          111\n",
       "         Furniture            93\n",
       "West     Office Supplies     253\n",
       "         Technology          129\n",
       "         Furniture            88\n",
       "Name: count, dtype: int64"
      ]
     },
     "execution_count": 111,
     "metadata": {},
     "output_type": "execute_result"
    }
   ],
   "source": [
    "# display region wisecount of product category.\n",
    "df.groupby('Region')['Product Category'].value_counts()"
   ]
  },
  {
   "cell_type": "code",
   "execution_count": 112,
   "id": "94b607e6-9db1-450e-a168-77ec309a2595",
   "metadata": {},
   "outputs": [
    {
     "data": {
      "text/html": [
       "<div>\n",
       "<style scoped>\n",
       "    .dataframe tbody tr th:only-of-type {\n",
       "        vertical-align: middle;\n",
       "    }\n",
       "\n",
       "    .dataframe tbody tr th {\n",
       "        vertical-align: top;\n",
       "    }\n",
       "\n",
       "    .dataframe thead th {\n",
       "        text-align: right;\n",
       "    }\n",
       "</style>\n",
       "<table border=\"1\" class=\"dataframe\">\n",
       "  <thead>\n",
       "    <tr style=\"text-align: right;\">\n",
       "      <th>Product Category</th>\n",
       "      <th>Furniture</th>\n",
       "      <th>Office Supplies</th>\n",
       "      <th>Technology</th>\n",
       "    </tr>\n",
       "    <tr>\n",
       "      <th>Region</th>\n",
       "      <th></th>\n",
       "      <th></th>\n",
       "      <th></th>\n",
       "    </tr>\n",
       "  </thead>\n",
       "  <tbody>\n",
       "    <tr>\n",
       "      <th>Central</th>\n",
       "      <td>120</td>\n",
       "      <td>315</td>\n",
       "      <td>131</td>\n",
       "    </tr>\n",
       "    <tr>\n",
       "      <th>East</th>\n",
       "      <td>99</td>\n",
       "      <td>265</td>\n",
       "      <td>110</td>\n",
       "    </tr>\n",
       "    <tr>\n",
       "      <th>South</th>\n",
       "      <td>93</td>\n",
       "      <td>238</td>\n",
       "      <td>111</td>\n",
       "    </tr>\n",
       "    <tr>\n",
       "      <th>West</th>\n",
       "      <td>88</td>\n",
       "      <td>253</td>\n",
       "      <td>129</td>\n",
       "    </tr>\n",
       "  </tbody>\n",
       "</table>\n",
       "</div>"
      ],
      "text/plain": [
       "Product Category  Furniture  Office Supplies  Technology\n",
       "Region                                                  \n",
       "Central                 120              315         131\n",
       "East                     99              265         110\n",
       "South                    93              238         111\n",
       "West                     88              253         129"
      ]
     },
     "execution_count": 112,
     "metadata": {},
     "output_type": "execute_result"
    }
   ],
   "source": [
    "df1 = df.groupby('Region')['Product Category'].value_counts().unstack()\n",
    "df1"
   ]
  },
  {
   "cell_type": "code",
   "execution_count": 113,
   "id": "228d9055-937f-4a2b-b808-f7813fa66838",
   "metadata": {},
   "outputs": [
    {
     "data": {
      "text/plain": [
       "<Axes: xlabel='Region'>"
      ]
     },
     "execution_count": 113,
     "metadata": {},
     "output_type": "execute_result"
    },
    {
     "data": {
      "image/png": "[encoded data removed]",
      "text/plain": [
       "<Figure size 640x480 with 1 Axes>"
      ]
     },
     "metadata": {},
     "output_type": "display_data"
    }
   ],
   "source": [
    "df1.plot.bar()"
   ]
  },
  {
   "cell_type": "code",
   "execution_count": 114,
   "id": "c9226cab-a229-474e-902a-b25f4a1185b4",
   "metadata": {},
   "outputs": [],
   "source": [
    "# display total sales\n",
    "# display total profit\n",
    "# % profit"
   ]
  },
  {
   "cell_type": "code",
   "execution_count": 115,
   "id": "10fe9cde-ff5f-4c9a-9a2a-d0fb725e9260",
   "metadata": {},
   "outputs": [
    {
     "name": "stdout",
     "output_type": "stream",
     "text": [
      "total sales : 1924337.88\n",
      "total profit : 224077.61\n",
      "% profit : 11.64\n"
     ]
    }
   ],
   "source": [
    "print(\"total sales :\",df['Sales'].sum())\n",
    "print(\"total profit :\",df['Profit'].sum().round(2))\n",
    "print(\"% profit :\",np.round(df['Profit'].sum().round(2) / df['Sales'].sum() * 100,2))"
   ]
  },
  {
   "cell_type": "code",
   "execution_count": 116,
   "id": "0fa6d409-e24d-4d06-8845-a02fb23bd706",
   "metadata": {},
   "outputs": [],
   "source": [
    "# display region wise  A. sales,%sales   B.profit,%profit contribution    C.% profit"
   ]
  },
  {
   "cell_type": "code",
   "execution_count": 117,
   "id": "6c5c8632-1537-4e07-aa9a-97fd8b447328",
   "metadata": {},
   "outputs": [
    {
     "data": {
      "text/plain": [
       "Region\n",
       "Central    448284.70\n",
       "East       592171.49\n",
       "South      357105.12\n",
       "West       526776.57\n",
       "Name: Sales, dtype: float64"
      ]
     },
     "execution_count": 117,
     "metadata": {},
     "output_type": "execute_result"
    }
   ],
   "source": [
    "df.groupby('Region')['Sales'].sum()"
   ]
  },
  {
   "cell_type": "code",
   "execution_count": 118,
   "id": "b8651210-a724-4150-a3a9-aa13c8a37e5f",
   "metadata": {},
   "outputs": [
    {
     "data": {
      "text/plain": [
       "Region\n",
       "Central    23.30\n",
       "East       30.77\n",
       "South      18.56\n",
       "West       27.37\n",
       "Name: Sales, dtype: float64"
      ]
     },
     "execution_count": 118,
     "metadata": {},
     "output_type": "execute_result"
    }
   ],
   "source": [
    "np.round(df.groupby('Region')['Sales'].sum() / df['Sales'].sum() * 100 , 2)"
   ]
  },
  {
   "cell_type": "code",
   "execution_count": 119,
   "id": "65f4e793-82e4-4fef-93d3-c9cc2cf5d6df",
   "metadata": {},
   "outputs": [
    {
     "data": {
      "text/plain": [
       "Region\n",
       "Central    77365.472669\n",
       "East       85291.403446\n",
       "South     -14424.054379\n",
       "West       75844.790102\n",
       "Name: Profit, dtype: float64"
      ]
     },
     "execution_count": 119,
     "metadata": {},
     "output_type": "execute_result"
    }
   ],
   "source": [
    "df.groupby('Region')['Profit'].sum()"
   ]
  },
  {
   "cell_type": "code",
   "execution_count": 120,
   "id": "9d2dc514-5459-4302-9d99-afdf1bc57fe5",
   "metadata": {},
   "outputs": [
    {
     "data": {
      "text/plain": [
       "Region\n",
       "Central    34.53\n",
       "East       38.06\n",
       "South      -6.44\n",
       "West       33.85\n",
       "Name: Profit, dtype: float64"
      ]
     },
     "execution_count": 120,
     "metadata": {},
     "output_type": "execute_result"
    }
   ],
   "source": [
    "np.round(df.groupby('Region')['Profit'].sum() / df['Profit'].sum() * 100 , 2)"
   ]
  },
  {
   "cell_type": "code",
   "execution_count": 121,
   "id": "4ead96ef-5daa-45e9-8333-42a7b6a58d58",
   "metadata": {},
   "outputs": [
    {
     "data": {
      "text/plain": [
       "Region\n",
       "Central    17.26\n",
       "East       14.40\n",
       "South      -4.04\n",
       "West       14.40\n",
       "dtype: float64"
      ]
     },
     "execution_count": 121,
     "metadata": {},
     "output_type": "execute_result"
    }
   ],
   "source": [
    "# region wise profit margin\n",
    "round(df.groupby('Region')['Profit'].sum() / df.groupby('Region')['Sales'].sum() * 100,2)"
   ]
  },
  {
   "cell_type": "code",
   "execution_count": 122,
   "id": "a5042f55-f5f0-4a7c-91e4-9231b3ef9c7f",
   "metadata": {},
   "outputs": [],
   "source": [
    "# display top 5 states,% contribution in sales. visualize"
   ]
  },
  {
   "cell_type": "code",
   "execution_count": 123,
   "id": "5732c469-a026-45e6-ac16-391f4fe58db5",
   "metadata": {},
   "outputs": [
    {
     "data": {
      "text/plain": [
       "State or Province\n",
       "Alabama                  46826.45\n",
       "Arizona                  14367.86\n",
       "Arkansas                 11724.43\n",
       "California              288310.61\n",
       "Colorado                 45843.45\n",
       "Connecticut               6540.54\n",
       "Delaware                  1257.76\n",
       "District of Columbia     68946.66\n",
       "Florida                  87651.11\n",
       "Georgia                  31992.21\n",
       "Idaho                    13922.92\n",
       "Illinois                 98971.25\n",
       "Indiana                  41089.05\n",
       "Iowa                     10977.69\n",
       "Kansas                   29678.21\n",
       "Kentucky                 15291.35\n",
       "Louisiana                14909.43\n",
       "Maine                    31131.74\n",
       "Maryland                 15597.44\n",
       "Massachusetts            59114.82\n",
       "Michigan                 69641.81\n",
       "Minnesota                41671.26\n",
       "Mississippi               9689.58\n",
       "Missouri                 10903.08\n",
       "Montana                  12593.59\n",
       "Nebraska                 15764.51\n",
       "Nevada                    8864.54\n",
       "New Hampshire             7619.70\n",
       "New Jersey               21943.91\n",
       "New Mexico                5593.18\n",
       "New York                223930.48\n",
       "North Carolina           43983.30\n",
       "North Dakota              5300.23\n",
       "Ohio                     69452.82\n",
       "Oklahoma                  6884.04\n",
       "Oregon                   25647.15\n",
       "Pennsylvania             52435.24\n",
       "Rhode Island             10027.83\n",
       "South Carolina           16544.63\n",
       "South Dakota              1550.49\n",
       "Tennessee                33209.76\n",
       "Texas                    93082.73\n",
       "Utah                     26981.67\n",
       "Vermont                  13491.00\n",
       "Virginia                 45282.87\n",
       "Washington               83468.06\n",
       "West Virginia            10681.55\n",
       "Wisconsin                22770.35\n",
       "Wyoming                   1183.54\n",
       "Name: Sales, dtype: float64"
      ]
     },
     "execution_count": 123,
     "metadata": {},
     "output_type": "execute_result"
    }
   ],
   "source": [
    "df.groupby('State or Province')['Sales'].sum()"
   ]
  },
  {
   "cell_type": "code",
   "execution_count": 124,
   "id": "caf89148-cdea-4675-9993-f31de24cc2f7",
   "metadata": {},
   "outputs": [
    {
     "data": {
      "text/plain": [
       "State or Province\n",
       "California    288310.61\n",
       "New York      223930.48\n",
       "Illinois       98971.25\n",
       "Texas          93082.73\n",
       "Florida        87651.11\n",
       "Name: Sales, dtype: float64"
      ]
     },
     "execution_count": 124,
     "metadata": {},
     "output_type": "execute_result"
    }
   ],
   "source": [
    "df.groupby('State or Province')['Sales'].sum().nlargest(5)"
   ]
  },
  {
   "cell_type": "code",
   "execution_count": 125,
   "id": "7358feb6-3cec-4593-a09f-fe007db1a09f",
   "metadata": {},
   "outputs": [
    {
     "data": {
      "text/plain": [
       "State or Province\n",
       "California    14.98\n",
       "New York      11.64\n",
       "Illinois       5.14\n",
       "Texas          4.84\n",
       "Florida        4.55\n",
       "Name: Sales, dtype: float64"
      ]
     },
     "execution_count": 125,
     "metadata": {},
     "output_type": "execute_result"
    }
   ],
   "source": [
    "np.round(df.groupby('State or Province')['Sales'].sum().nlargest(5) / df['Sales'].sum() * 100 , 2)"
   ]
  },
  {
   "cell_type": "code",
   "execution_count": 126,
   "id": "5ad0b529-15d6-491f-98d9-fea73a1bb71a",
   "metadata": {},
   "outputs": [
    {
     "data": {
      "text/plain": [
       "<Axes: xlabel='State or Province'>"
      ]
     },
     "execution_count": 126,
     "metadata": {},
     "output_type": "execute_result"
    },
    {
     "data": {
      "image/png": "[encoded data removed]",
      "text/plain": [
       "<Figure size 640x480 with 1 Axes>"
      ]
     },
     "metadata": {},
     "output_type": "display_data"
    }
   ],
   "source": [
    "np.round(df.groupby('State or Province')['Sales'].sum().nlargest(5) / df['Sales'].sum() * 100 , 2).plot.bar()"
   ]
  },
  {
   "cell_type": "code",
   "execution_count": 127,
   "id": "6b1de629-1b7b-4931-97db-87f30c4019c5",
   "metadata": {},
   "outputs": [],
   "source": [
    "# display top 5 states,% contribution in profit. visualize"
   ]
  },
  {
   "cell_type": "code",
   "execution_count": 128,
   "id": "38f44a80-ede6-46d7-b9f6-b20e5044804b",
   "metadata": {},
   "outputs": [
    {
     "data": {
      "text/plain": [
       "State or Province\n",
       "Alabama                 -2418.056600\n",
       "Arizona                  3909.753832\n",
       "Arkansas                -1184.747200\n",
       "California              37421.960192\n",
       "Colorado                 6965.462660\n",
       "Connecticut              -529.106300\n",
       "Delaware                  406.741800\n",
       "District of Columbia    11677.363100\n",
       "Florida                    86.703840\n",
       "Georgia                 11838.491414\n",
       "Idaho                    6848.353300\n",
       "Illinois                12321.579312\n",
       "Indiana                  -101.665105\n",
       "Iowa                     1262.430580\n",
       "Kansas                   2725.776360\n",
       "Kentucky                -1842.509600\n",
       "Louisiana                 710.125420\n",
       "Maine                    2847.952893\n",
       "Maryland                  910.808060\n",
       "Massachusetts            5293.783980\n",
       "Michigan                12307.551892\n",
       "Minnesota                3986.394860\n",
       "Mississippi              -529.914950\n",
       "Missouri                 2123.211900\n",
       "Montana                -13759.205488\n",
       "Nebraska                 4675.600330\n",
       "Nevada                   3788.828996\n",
       "New Hampshire            3611.057400\n",
       "New Jersey                770.908688\n",
       "New Mexico               4215.919480\n",
       "New York                27611.943319\n",
       "North Carolina         -19427.914840\n",
       "North Dakota             3012.156100\n",
       "Ohio                    23410.842026\n",
       "Oklahoma                 2555.989520\n",
       "Oregon                  17931.043400\n",
       "Pennsylvania            -1095.506525\n",
       "Rhode Island             5073.001400\n",
       "South Carolina           1695.783237\n",
       "South Dakota              431.186200\n",
       "Tennessee               -1603.463400\n",
       "Texas                   28078.850660\n",
       "Utah                     3931.836980\n",
       "Vermont                   530.149780\n",
       "Virginia                -1748.551700\n",
       "Washington               3855.611750\n",
       "West Virginia            4771.463825\n",
       "Wisconsin                3986.410060\n",
       "Wyoming                   735.225000\n",
       "Name: Profit, dtype: float64"
      ]
     },
     "execution_count": 128,
     "metadata": {},
     "output_type": "execute_result"
    }
   ],
   "source": [
    "df.groupby('State or Province')['Profit'].sum()"
   ]
  },
  {
   "cell_type": "code",
   "execution_count": 129,
   "id": "f1d8c063-adda-4755-ba49-d019ddc131e4",
   "metadata": {},
   "outputs": [
    {
     "data": {
      "text/plain": [
       "State or Province\n",
       "California    37421.960192\n",
       "Texas         28078.850660\n",
       "New York      27611.943319\n",
       "Name: Profit, dtype: float64"
      ]
     },
     "execution_count": 129,
     "metadata": {},
     "output_type": "execute_result"
    }
   ],
   "source": [
    "df.groupby('State or Province')['Profit'].sum().nlargest(3)"
   ]
  },
  {
   "cell_type": "code",
   "execution_count": 130,
   "id": "99838cbe-457a-4e67-b62d-33af5627f9d1",
   "metadata": {},
   "outputs": [
    {
     "data": {
      "text/plain": [
       "State or Province\n",
       "California    1.94\n",
       "Texas         1.46\n",
       "New York      1.43\n",
       "Name: Profit, dtype: float64"
      ]
     },
     "execution_count": 130,
     "metadata": {},
     "output_type": "execute_result"
    }
   ],
   "source": [
    "np.round(df.groupby('State or Province')['Profit'].sum().nlargest(3) / df['Sales'].sum() * 100 , 2)"
   ]
  },
  {
   "cell_type": "code",
   "execution_count": 131,
   "id": "c29b8b00-3a01-47ae-975e-a5c61e6b0577",
   "metadata": {},
   "outputs": [
    {
     "data": {
      "text/plain": [
       "<Axes: xlabel='State or Province'>"
      ]
     },
     "execution_count": 131,
     "metadata": {},
     "output_type": "execute_result"
    },
    {
     "data": {
      "image/png": "[encoded data removed]",
      "text/plain": [
       "<Figure size 640x480 with 1 Axes>"
      ]
     },
     "metadata": {},
     "output_type": "display_data"
    }
   ],
   "source": [
    "np.round(df.groupby('State or Province')['Profit'].sum().nlargest(3) / df['Sales'].sum() * 100 , 2).plot.bar()"
   ]
  },
  {
   "cell_type": "markdown",
   "id": "a9aa59c2-6fc9-411f-8807-8c8ab9468485",
   "metadata": {},
   "source": [
    "## Which product category contributes the most to sales?"
   ]
  },
  {
   "cell_type": "code",
   "execution_count": 193,
   "id": "d85c94b5-51f9-4ef9-b6ec-be2589416e6d",
   "metadata": {},
   "outputs": [
    {
     "data": {
      "image/png": "[encoded data removed]",
      "text/plain": [
       "<Figure size 800x600 with 1 Axes>"
      ]
     },
     "metadata": {},
     "output_type": "display_data"
    }
   ],
   "source": [
    "# Assuming 'df' is your dataframe\n",
    "category_sales = df.groupby('Product Category')['Sales'].sum().sort_values(ascending=False)\n",
    "\n",
    "# Plotting the result\n",
    "plt.figure(figsize=(8,6))\n",
    "category_sales.plot(kind='bar', color='skyblue')\n",
    "plt.title('Sales by Product Category')\n",
    "plt.ylabel('Total Sales')\n",
    "plt.xlabel('Category')\n",
    "plt.show()"
   ]
  },
  {
   "cell_type": "markdown",
   "id": "6b28cf21-64f2-4713-8ea8-98ff18c4ac23",
   "metadata": {},
   "source": [
    "## Which region generates the highest profit?"
   ]
  },
  {
   "cell_type": "code",
   "execution_count": 189,
   "id": "a4db2bab-47f2-4cec-a9b9-b13071d92207",
   "metadata": {},
   "outputs": [
    {
     "data": {
      "image/png": "[encoded data removed]",
      "text/plain": [
       "<Figure size 800x600 with 1 Axes>"
      ]
     },
     "metadata": {},
     "output_type": "display_data"
    }
   ],
   "source": [
    "region_profit = df.groupby('Region')['Profit'].sum().sort_values(ascending=False)\n",
    "\n",
    "# Plotting the result\n",
    "plt.figure(figsize=(8,6))\n",
    "region_profit.plot(kind='bar', color='lightgreen')\n",
    "plt.title('Profit by Region')\n",
    "plt.ylabel('Total Profit')\n",
    "plt.xlabel('Region')\n",
    "plt.show()"
   ]
  },
  {
   "cell_type": "markdown",
   "id": "ea7c948f-1762-4f87-a76b-f8c93a1802ae",
   "metadata": {},
   "source": [
    "## What is the impact of discount on profit?"
   ]
  },
  {
   "cell_type": "code",
   "execution_count": 198,
   "id": "d73c2db8-12dc-484e-8849-ccb683863157",
   "metadata": {},
   "outputs": [
    {
     "data": {
      "image/png": "[encoded data removed]",
      "text/plain": [
       "<Figure size 800x600 with 1 Axes>"
      ]
     },
     "metadata": {},
     "output_type": "display_data"
    }
   ],
   "source": [
    "# Scatter plot to visualize the relationship\n",
    "plt.figure(figsize=(8,6))\n",
    "sns.scatterplot(x='Discount', y='Profit', data=df, alpha=0.5)\n",
    "plt.title('Discount vs Profit')\n",
    "plt.xlabel('Discount')\n",
    "plt.ylabel('Profit')\n",
    "plt.show()"
   ]
  },
  {
   "cell_type": "markdown",
   "id": "eedd946b-ed17-4495-a7e7-1b5b201b9094",
   "metadata": {},
   "source": [
    "## Which customer segment is the most profitable?"
   ]
  },
  {
   "cell_type": "code",
   "execution_count": 203,
   "id": "5d0b6598-a918-4a35-9af3-060e0710f928",
   "metadata": {},
   "outputs": [
    {
     "data": {
      "image/png": "[encoded data removed]",
      "text/plain": [
       "<Figure size 800x600 with 1 Axes>"
      ]
     },
     "metadata": {},
     "output_type": "display_data"
    }
   ],
   "source": [
    "segment_profit = df.groupby('Customer Segment')['Profit'].sum().sort_values(ascending=False)\n",
    "\n",
    "# Plotting the result\n",
    "plt.figure(figsize=(8,6))\n",
    "segment_profit.plot(kind='bar', color='orange')\n",
    "plt.title('Profit by Customer Segment')\n",
    "plt.ylabel('Total Profit')\n",
    "plt.xlabel('Segment')\n",
    "plt.show()"
   ]
  },
  {
   "cell_type": "markdown",
   "id": "77742eff-8528-4525-bed8-b9ab0663cb32",
   "metadata": {},
   "source": [
    "# Are certain shipping modes associated with higher profits or sales?"
   ]
  },
  {
   "cell_type": "code",
   "execution_count": 206,
   "id": "75228cc9-7c25-47eb-8d5c-78057efb2d39",
   "metadata": {},
   "outputs": [
    {
     "data": {
      "image/png": "[encoded data removed]",
      "text/plain": [
       "<Figure size 800x600 with 1 Axes>"
      ]
     },
     "metadata": {},
     "output_type": "display_data"
    },
    {
     "data": {
      "image/png": "[encoded data removed]",
      "text/plain": [
       "<Figure size 800x600 with 1 Axes>"
      ]
     },
     "metadata": {},
     "output_type": "display_data"
    }
   ],
   "source": [
    "shipping_sales = df.groupby('Ship Mode')['Sales'].sum().sort_values(ascending=False)\n",
    "shipping_profit = df.groupby('Ship Mode')['Profit'].sum().sort_values(ascending=False)\n",
    "\n",
    "# Plotting sales\n",
    "plt.figure(figsize=(8,6))\n",
    "shipping_sales.plot(kind='bar', color='lightcoral')\n",
    "plt.title('Sales by Shipping Mode')\n",
    "plt.ylabel('Total Sales')\n",
    "plt.xlabel('Shipping Mode')\n",
    "plt.show()\n",
    "\n",
    "# Plotting profit\n",
    "plt.figure(figsize=(8,6))\n",
    "shipping_profit.plot(kind='bar', color='lightblue')\n",
    "plt.title('Profit by Shipping Mode')\n",
    "plt.ylabel('Total Profit')\n",
    "plt.xlabel('Shipping Mode')\n",
    "plt.show()"
   ]
  }
 ],
 "metadata": {
  "kernelspec": {
   "display_name": "Python 3 (ipykernel)",
   "language": "python",
   "name": "python3"
  },
  "language_info": {
   "codemirror_mode": {
    "name": "ipython",
    "version": 3
   },
   "file_extension": ".py",
   "mimetype": "text/x-python",
   "name": "python",
   "nbconvert_exporter": "python",
   "pygments_lexer": "ipython3",
   "version": "3.12.4"
  }
 },
 "nbformat": 4,
 "nbformat_minor": 5
}
